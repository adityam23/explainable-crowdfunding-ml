{
 "cells": [
  {
   "cell_type": "code",
   "execution_count": 1,
   "id": "da394573-d61d-4615-a588-872b0f6de931",
   "metadata": {},
   "outputs": [],
   "source": [
    "FILENAME = \"fullfile_ascii_3.csv\""
   ]
  },
  {
   "cell_type": "code",
   "execution_count": 2,
   "id": "8aab621c-a40b-4ba4-b3a5-ca73eccae30f",
   "metadata": {},
   "outputs": [],
   "source": [
    "import pandas as pd\n",
    "from sklearn.feature_extraction.text import TfidfVectorizer\n",
    "from sklearn.feature_selection import SelectKBest, f_classif\n",
    "from sklearn.feature_selection import SelectKBest, chi2\n",
    "from sklearn.naive_bayes import MultinomialNB\n",
    "from sklearn.model_selection import cross_val_score\n",
    "from xgboost import XGBClassifier\n",
    "from sklearn.metrics import roc_auc_score, f1_score\n",
    "from sklearn.model_selection import GridSearchCV\n",
    "import shap\n",
    "import matplotlib.pyplot as plt\n",
    "from sklearn.inspection import PartialDependenceDisplay\n",
    "import lime\n",
    "import lime.lime_tabular\n",
    "import numpy as np\n",
    "from sklearn.model_selection import train_test_split\n",
    "from sklearn.preprocessing import StandardScaler\n",
    "from sklearn.preprocessing import OneHotEncoder\n",
    "from sklearn.compose import ColumnTransformer\n",
    "from sklearn.pipeline import Pipeline\n",
    "from sklearn.impute import SimpleImputer\n",
    "from scipy.sparse import hstack"
   ]
  },
  {
   "cell_type": "code",
   "execution_count": 3,
   "id": "d3bd782d-5cef-4e9b-9380-62a48e0c59cc",
   "metadata": {},
   "outputs": [],
   "source": [
    "df = pd.read_csv(FILENAME, low_memory=False)"
   ]
  },
  {
   "cell_type": "code",
   "execution_count": 4,
   "id": "5e730200-7b26-4ee1-b9e7-00382347bb50",
   "metadata": {},
   "outputs": [
    {
     "name": "stdout",
     "output_type": "stream",
     "text": [
      "<class 'pandas.core.frame.DataFrame'>\n",
      "RangeIndex: 1788003 entries, 0 to 1788002\n",
      "Data columns (total 27 columns):\n",
      " #   Column                    Dtype  \n",
      "---  ------                    -----  \n",
      " 0   Unnamed: 0                int64  \n",
      " 1   backers_count             int64  \n",
      " 2   blurb                     object \n",
      " 3   category                  object \n",
      " 4   converted_pledged_amount  float64\n",
      " 5   country                   object \n",
      " 6   goal                      float64\n",
      " 7   id                        int64  \n",
      " 8   location                  object \n",
      " 9   name                      object \n",
      " 10  photo                     int64  \n",
      " 11  pledged                   float64\n",
      " 12  spotlight                 int64  \n",
      " 13  staff_pick                int64  \n",
      " 14  state                     int64  \n",
      " 15  usd_pledged               float64\n",
      " 16  video                     int64  \n",
      " 17  prelaunch_activated       int64  \n",
      " 18  is_liked                  int64  \n",
      " 19  is_disliked               int64  \n",
      " 20  is_starrable              int64  \n",
      " 21  blurb_wc                  int64  \n",
      " 22  dale_chall                float64\n",
      " 23  flesch_kincaid            float64\n",
      " 24  smog                      float64\n",
      " 25  gun_fog                   float64\n",
      " 26  camp_len                  int64  \n",
      "dtypes: float64(8), int64(14), object(5)\n",
      "memory usage: 368.3+ MB\n"
     ]
    }
   ],
   "source": [
    "df.info()"
   ]
  },
  {
   "cell_type": "code",
   "execution_count": 5,
   "id": "b19be51e-eca2-4640-aef5-4bb757b9a620",
   "metadata": {},
   "outputs": [
    {
     "data": {
      "text/plain": [
       "state\n",
       "1    1123662\n",
       "0     664341\n",
       "Name: count, dtype: int64"
      ]
     },
     "execution_count": 5,
     "metadata": {},
     "output_type": "execute_result"
    }
   ],
   "source": [
    "df['state'].value_counts()"
   ]
  },
  {
   "cell_type": "code",
   "execution_count": 6,
   "id": "59ea41e3-c175-4dd6-b749-713d0fbfc672",
   "metadata": {},
   "outputs": [
    {
     "data": {
      "text/plain": [
       "video\n",
       "1    1243983\n",
       "0     544020\n",
       "Name: count, dtype: int64"
      ]
     },
     "execution_count": 6,
     "metadata": {},
     "output_type": "execute_result"
    }
   ],
   "source": [
    "df['video'].value_counts()"
   ]
  },
  {
   "cell_type": "code",
   "execution_count": 7,
   "id": "bae691d3-58de-4f10-9e6c-b9d94a0506bb",
   "metadata": {},
   "outputs": [
    {
     "data": {
      "text/plain": [
       "photo\n",
       "1    1787768\n",
       "0        235\n",
       "Name: count, dtype: int64"
      ]
     },
     "execution_count": 7,
     "metadata": {},
     "output_type": "execute_result"
    }
   ],
   "source": [
    "df['photo'].value_counts()"
   ]
  },
  {
   "cell_type": "code",
   "execution_count": 8,
   "id": "bfb4e5e7-1169-43e9-9db7-1b2ca20ea915",
   "metadata": {},
   "outputs": [],
   "source": [
    "df[\"blurb\"] = df[\"blurb\"].astype(str)"
   ]
  },
  {
   "cell_type": "code",
   "execution_count": 9,
   "id": "d8b19a3b-9ce4-406f-b24a-4a6de142af38",
   "metadata": {},
   "outputs": [],
   "source": [
    "df = df.drop(columns=['Unnamed: 0','id','name','location'])"
   ]
  },
  {
   "cell_type": "code",
   "execution_count": 10,
   "id": "33a32bd0-110c-4718-aaac-2e6224da499d",
   "metadata": {},
   "outputs": [],
   "source": [
    "df_sampled = df.sample(n=10000, random_state=42).reset_index(drop=True)"
   ]
  },
  {
   "cell_type": "code",
   "execution_count": 11,
   "id": "d9ab835e-654f-4e09-8278-929df1d0a9b0",
   "metadata": {},
   "outputs": [
    {
     "data": {
      "text/plain": [
       "state\n",
       "1    6261\n",
       "0    3739\n",
       "Name: count, dtype: int64"
      ]
     },
     "execution_count": 11,
     "metadata": {},
     "output_type": "execute_result"
    }
   ],
   "source": [
    "df_sampled[\"state\"].value_counts()"
   ]
  },
  {
   "cell_type": "code",
   "execution_count": 12,
   "id": "89dfd497-28d7-4c34-9f06-cd39126eae91",
   "metadata": {},
   "outputs": [
    {
     "data": {
      "text/plain": [
       "Index(['backers_count', 'blurb', 'category', 'converted_pledged_amount',\n",
       "       'country', 'goal', 'photo', 'pledged', 'spotlight', 'staff_pick',\n",
       "       'state', 'usd_pledged', 'video', 'prelaunch_activated', 'is_liked',\n",
       "       'is_disliked', 'is_starrable', 'blurb_wc', 'dale_chall',\n",
       "       'flesch_kincaid', 'smog', 'gun_fog', 'camp_len'],\n",
       "      dtype='object')"
      ]
     },
     "execution_count": 12,
     "metadata": {},
     "output_type": "execute_result"
    }
   ],
   "source": [
    "df.columns"
   ]
  },
  {
   "cell_type": "code",
   "execution_count": 13,
   "id": "0482f8cf-8ba0-4e6b-ac44-0a242c1e45f0",
   "metadata": {},
   "outputs": [],
   "source": [
    "X_blurb = df_sampled[\"blurb\"]\n",
    "y = df_sampled[\"state\"]\n",
    "X_other = df_sampled.drop(columns=[\"blurb\", \"state\"])"
   ]
  },
  {
   "cell_type": "code",
   "execution_count": 14,
   "id": "092df6ba-8297-4f75-b2b2-5fe5b09baf43",
   "metadata": {},
   "outputs": [
    {
     "data": {
      "text/html": [
       "<div>\n",
       "<style scoped>\n",
       "    .dataframe tbody tr th:only-of-type {\n",
       "        vertical-align: middle;\n",
       "    }\n",
       "\n",
       "    .dataframe tbody tr th {\n",
       "        vertical-align: top;\n",
       "    }\n",
       "\n",
       "    .dataframe thead th {\n",
       "        text-align: right;\n",
       "    }\n",
       "</style>\n",
       "<table border=\"1\" class=\"dataframe\">\n",
       "  <thead>\n",
       "    <tr style=\"text-align: right;\">\n",
       "      <th></th>\n",
       "      <th>backers_count</th>\n",
       "      <th>category</th>\n",
       "      <th>converted_pledged_amount</th>\n",
       "      <th>country</th>\n",
       "      <th>goal</th>\n",
       "      <th>photo</th>\n",
       "      <th>pledged</th>\n",
       "      <th>spotlight</th>\n",
       "      <th>staff_pick</th>\n",
       "      <th>usd_pledged</th>\n",
       "      <th>...</th>\n",
       "      <th>prelaunch_activated</th>\n",
       "      <th>is_liked</th>\n",
       "      <th>is_disliked</th>\n",
       "      <th>is_starrable</th>\n",
       "      <th>blurb_wc</th>\n",
       "      <th>dale_chall</th>\n",
       "      <th>flesch_kincaid</th>\n",
       "      <th>smog</th>\n",
       "      <th>gun_fog</th>\n",
       "      <th>camp_len</th>\n",
       "    </tr>\n",
       "  </thead>\n",
       "  <tbody>\n",
       "    <tr>\n",
       "      <th>0</th>\n",
       "      <td>30</td>\n",
       "      <td>Jewelry</td>\n",
       "      <td>2921.0</td>\n",
       "      <td>CA</td>\n",
       "      <td>2200.0</td>\n",
       "      <td>1</td>\n",
       "      <td>3390.00</td>\n",
       "      <td>1</td>\n",
       "      <td>0</td>\n",
       "      <td>2997.485290</td>\n",
       "      <td>...</td>\n",
       "      <td>0</td>\n",
       "      <td>0</td>\n",
       "      <td>0</td>\n",
       "      <td>0</td>\n",
       "      <td>20</td>\n",
       "      <td>12.52</td>\n",
       "      <td>42.72</td>\n",
       "      <td>0.0</td>\n",
       "      <td>14.00</td>\n",
       "      <td>1</td>\n",
       "    </tr>\n",
       "    <tr>\n",
       "      <th>1</th>\n",
       "      <td>109</td>\n",
       "      <td>Anthologies</td>\n",
       "      <td>2237.0</td>\n",
       "      <td>US</td>\n",
       "      <td>2156.0</td>\n",
       "      <td>1</td>\n",
       "      <td>2237.00</td>\n",
       "      <td>1</td>\n",
       "      <td>0</td>\n",
       "      <td>2237.000000</td>\n",
       "      <td>...</td>\n",
       "      <td>0</td>\n",
       "      <td>0</td>\n",
       "      <td>0</td>\n",
       "      <td>0</td>\n",
       "      <td>20</td>\n",
       "      <td>12.82</td>\n",
       "      <td>44.41</td>\n",
       "      <td>0.0</td>\n",
       "      <td>10.00</td>\n",
       "      <td>1</td>\n",
       "    </tr>\n",
       "    <tr>\n",
       "      <th>2</th>\n",
       "      <td>0</td>\n",
       "      <td>Wearables</td>\n",
       "      <td>0.0</td>\n",
       "      <td>US</td>\n",
       "      <td>10000.0</td>\n",
       "      <td>1</td>\n",
       "      <td>0.00</td>\n",
       "      <td>0</td>\n",
       "      <td>0</td>\n",
       "      <td>0.000000</td>\n",
       "      <td>...</td>\n",
       "      <td>0</td>\n",
       "      <td>0</td>\n",
       "      <td>0</td>\n",
       "      <td>0</td>\n",
       "      <td>15</td>\n",
       "      <td>14.91</td>\n",
       "      <td>30.87</td>\n",
       "      <td>0.0</td>\n",
       "      <td>14.00</td>\n",
       "      <td>1</td>\n",
       "    </tr>\n",
       "    <tr>\n",
       "      <th>3</th>\n",
       "      <td>1</td>\n",
       "      <td>Comedy</td>\n",
       "      <td>3.0</td>\n",
       "      <td>NZ</td>\n",
       "      <td>7000.0</td>\n",
       "      <td>1</td>\n",
       "      <td>5.00</td>\n",
       "      <td>0</td>\n",
       "      <td>0</td>\n",
       "      <td>3.500033</td>\n",
       "      <td>...</td>\n",
       "      <td>0</td>\n",
       "      <td>0</td>\n",
       "      <td>0</td>\n",
       "      <td>0</td>\n",
       "      <td>18</td>\n",
       "      <td>10.67</td>\n",
       "      <td>44.75</td>\n",
       "      <td>0.0</td>\n",
       "      <td>13.87</td>\n",
       "      <td>1</td>\n",
       "    </tr>\n",
       "    <tr>\n",
       "      <th>4</th>\n",
       "      <td>22</td>\n",
       "      <td>Illustration</td>\n",
       "      <td>1674.0</td>\n",
       "      <td>US</td>\n",
       "      <td>500.0</td>\n",
       "      <td>1</td>\n",
       "      <td>1674.00</td>\n",
       "      <td>1</td>\n",
       "      <td>0</td>\n",
       "      <td>1674.000000</td>\n",
       "      <td>...</td>\n",
       "      <td>1</td>\n",
       "      <td>0</td>\n",
       "      <td>0</td>\n",
       "      <td>0</td>\n",
       "      <td>18</td>\n",
       "      <td>11.55</td>\n",
       "      <td>44.75</td>\n",
       "      <td>0.0</td>\n",
       "      <td>13.87</td>\n",
       "      <td>0</td>\n",
       "    </tr>\n",
       "    <tr>\n",
       "      <th>...</th>\n",
       "      <td>...</td>\n",
       "      <td>...</td>\n",
       "      <td>...</td>\n",
       "      <td>...</td>\n",
       "      <td>...</td>\n",
       "      <td>...</td>\n",
       "      <td>...</td>\n",
       "      <td>...</td>\n",
       "      <td>...</td>\n",
       "      <td>...</td>\n",
       "      <td>...</td>\n",
       "      <td>...</td>\n",
       "      <td>...</td>\n",
       "      <td>...</td>\n",
       "      <td>...</td>\n",
       "      <td>...</td>\n",
       "      <td>...</td>\n",
       "      <td>...</td>\n",
       "      <td>...</td>\n",
       "      <td>...</td>\n",
       "      <td>...</td>\n",
       "    </tr>\n",
       "    <tr>\n",
       "      <th>9995</th>\n",
       "      <td>26</td>\n",
       "      <td>Children's Books</td>\n",
       "      <td>1297.0</td>\n",
       "      <td>US</td>\n",
       "      <td>880.0</td>\n",
       "      <td>1</td>\n",
       "      <td>1297.00</td>\n",
       "      <td>1</td>\n",
       "      <td>0</td>\n",
       "      <td>1297.000000</td>\n",
       "      <td>...</td>\n",
       "      <td>1</td>\n",
       "      <td>0</td>\n",
       "      <td>0</td>\n",
       "      <td>0</td>\n",
       "      <td>20</td>\n",
       "      <td>8.58</td>\n",
       "      <td>25.80</td>\n",
       "      <td>0.0</td>\n",
       "      <td>14.00</td>\n",
       "      <td>2</td>\n",
       "    </tr>\n",
       "    <tr>\n",
       "      <th>9996</th>\n",
       "      <td>26</td>\n",
       "      <td>Fiction</td>\n",
       "      <td>640.0</td>\n",
       "      <td>AU</td>\n",
       "      <td>786.0</td>\n",
       "      <td>1</td>\n",
       "      <td>996.32</td>\n",
       "      <td>1</td>\n",
       "      <td>0</td>\n",
       "      <td>633.032675</td>\n",
       "      <td>...</td>\n",
       "      <td>1</td>\n",
       "      <td>0</td>\n",
       "      <td>0</td>\n",
       "      <td>0</td>\n",
       "      <td>20</td>\n",
       "      <td>11.07</td>\n",
       "      <td>47.75</td>\n",
       "      <td>10.5</td>\n",
       "      <td>12.68</td>\n",
       "      <td>1</td>\n",
       "    </tr>\n",
       "    <tr>\n",
       "      <th>9997</th>\n",
       "      <td>116</td>\n",
       "      <td>Gadgets</td>\n",
       "      <td>14450.0</td>\n",
       "      <td>US</td>\n",
       "      <td>12500.0</td>\n",
       "      <td>1</td>\n",
       "      <td>14450.00</td>\n",
       "      <td>1</td>\n",
       "      <td>0</td>\n",
       "      <td>14450.000000</td>\n",
       "      <td>...</td>\n",
       "      <td>0</td>\n",
       "      <td>0</td>\n",
       "      <td>0</td>\n",
       "      <td>0</td>\n",
       "      <td>21</td>\n",
       "      <td>7.16</td>\n",
       "      <td>69.28</td>\n",
       "      <td>0.0</td>\n",
       "      <td>8.01</td>\n",
       "      <td>1</td>\n",
       "    </tr>\n",
       "    <tr>\n",
       "      <th>9998</th>\n",
       "      <td>0</td>\n",
       "      <td>Sculpture</td>\n",
       "      <td>0.0</td>\n",
       "      <td>FR</td>\n",
       "      <td>10000.0</td>\n",
       "      <td>1</td>\n",
       "      <td>0.00</td>\n",
       "      <td>0</td>\n",
       "      <td>0</td>\n",
       "      <td>0.000000</td>\n",
       "      <td>...</td>\n",
       "      <td>0</td>\n",
       "      <td>0</td>\n",
       "      <td>0</td>\n",
       "      <td>0</td>\n",
       "      <td>16</td>\n",
       "      <td>18.25</td>\n",
       "      <td>63.70</td>\n",
       "      <td>0.0</td>\n",
       "      <td>11.40</td>\n",
       "      <td>1</td>\n",
       "    </tr>\n",
       "    <tr>\n",
       "      <th>9999</th>\n",
       "      <td>0</td>\n",
       "      <td>Blues</td>\n",
       "      <td>0.0</td>\n",
       "      <td>AU</td>\n",
       "      <td>7500.0</td>\n",
       "      <td>1</td>\n",
       "      <td>0.00</td>\n",
       "      <td>0</td>\n",
       "      <td>0</td>\n",
       "      <td>0.000000</td>\n",
       "      <td>...</td>\n",
       "      <td>0</td>\n",
       "      <td>0</td>\n",
       "      <td>0</td>\n",
       "      <td>0</td>\n",
       "      <td>23</td>\n",
       "      <td>10.27</td>\n",
       "      <td>48.13</td>\n",
       "      <td>0.0</td>\n",
       "      <td>14.42</td>\n",
       "      <td>1</td>\n",
       "    </tr>\n",
       "  </tbody>\n",
       "</table>\n",
       "<p>10000 rows × 21 columns</p>\n",
       "</div>"
      ],
      "text/plain": [
       "      backers_count          category  converted_pledged_amount country  \\\n",
       "0                30           Jewelry                    2921.0      CA   \n",
       "1               109       Anthologies                    2237.0      US   \n",
       "2                 0         Wearables                       0.0      US   \n",
       "3                 1            Comedy                       3.0      NZ   \n",
       "4                22      Illustration                    1674.0      US   \n",
       "...             ...               ...                       ...     ...   \n",
       "9995             26  Children's Books                    1297.0      US   \n",
       "9996             26           Fiction                     640.0      AU   \n",
       "9997            116           Gadgets                   14450.0      US   \n",
       "9998              0         Sculpture                       0.0      FR   \n",
       "9999              0             Blues                       0.0      AU   \n",
       "\n",
       "         goal  photo   pledged  spotlight  staff_pick   usd_pledged  ...  \\\n",
       "0      2200.0      1   3390.00          1           0   2997.485290  ...   \n",
       "1      2156.0      1   2237.00          1           0   2237.000000  ...   \n",
       "2     10000.0      1      0.00          0           0      0.000000  ...   \n",
       "3      7000.0      1      5.00          0           0      3.500033  ...   \n",
       "4       500.0      1   1674.00          1           0   1674.000000  ...   \n",
       "...       ...    ...       ...        ...         ...           ...  ...   \n",
       "9995    880.0      1   1297.00          1           0   1297.000000  ...   \n",
       "9996    786.0      1    996.32          1           0    633.032675  ...   \n",
       "9997  12500.0      1  14450.00          1           0  14450.000000  ...   \n",
       "9998  10000.0      1      0.00          0           0      0.000000  ...   \n",
       "9999   7500.0      1      0.00          0           0      0.000000  ...   \n",
       "\n",
       "      prelaunch_activated  is_liked  is_disliked  is_starrable  blurb_wc  \\\n",
       "0                       0         0            0             0        20   \n",
       "1                       0         0            0             0        20   \n",
       "2                       0         0            0             0        15   \n",
       "3                       0         0            0             0        18   \n",
       "4                       1         0            0             0        18   \n",
       "...                   ...       ...          ...           ...       ...   \n",
       "9995                    1         0            0             0        20   \n",
       "9996                    1         0            0             0        20   \n",
       "9997                    0         0            0             0        21   \n",
       "9998                    0         0            0             0        16   \n",
       "9999                    0         0            0             0        23   \n",
       "\n",
       "      dale_chall  flesch_kincaid  smog  gun_fog  camp_len  \n",
       "0          12.52           42.72   0.0    14.00         1  \n",
       "1          12.82           44.41   0.0    10.00         1  \n",
       "2          14.91           30.87   0.0    14.00         1  \n",
       "3          10.67           44.75   0.0    13.87         1  \n",
       "4          11.55           44.75   0.0    13.87         0  \n",
       "...          ...             ...   ...      ...       ...  \n",
       "9995        8.58           25.80   0.0    14.00         2  \n",
       "9996       11.07           47.75  10.5    12.68         1  \n",
       "9997        7.16           69.28   0.0     8.01         1  \n",
       "9998       18.25           63.70   0.0    11.40         1  \n",
       "9999       10.27           48.13   0.0    14.42         1  \n",
       "\n",
       "[10000 rows x 21 columns]"
      ]
     },
     "execution_count": 14,
     "metadata": {},
     "output_type": "execute_result"
    }
   ],
   "source": [
    "X_other"
   ]
  },
  {
   "cell_type": "code",
   "execution_count": 15,
   "id": "de4018e8-958d-4add-bf91-ee71d4a6ad40",
   "metadata": {},
   "outputs": [],
   "source": [
    "tf_vector = TfidfVectorizer(ngram_range=(2, 2), \\\n",
    "                    stop_words='english', \\\n",
    "                    max_features=1000)  # remove stopwords and choose top 1000 features\n",
    "tf_idf = tf_vector.fit_transform(X_blurb)"
   ]
  },
  {
   "cell_type": "code",
   "execution_count": 16,
   "id": "942fe736-6816-48a5-ac66-47b33616233d",
   "metadata": {},
   "outputs": [
    {
     "name": "stdout",
     "output_type": "stream",
     "text": [
      "Best k: 400, Accuracy: 0.668\n"
     ]
    }
   ],
   "source": [
    "scores = []\n",
    "for k in range(100, 1001, 100):\n",
    "    sel = SelectKBest(score_func=chi2, k=k).fit(tf_idf, y)\n",
    "    X_k = sel.transform(tf_idf)\n",
    "    acc = cross_val_score(MultinomialNB(), X_k, y, cv=5).mean()\n",
    "    scores.append((k, acc))\n",
    "\n",
    "best_k, best_acc = max(scores, key=lambda x: x[1])\n",
    "print(f\"Best k: {best_k}, Accuracy: {best_acc:.3f}\")"
   ]
  },
  {
   "cell_type": "code",
   "execution_count": 17,
   "id": "cc43dff4-c740-4172-88f0-9314cad02919",
   "metadata": {},
   "outputs": [],
   "source": [
    "tf_vector = TfidfVectorizer(ngram_range=(2, 2), \\\n",
    "                    stop_words='english', \\\n",
    "                    max_features=400)  # remove stopwords and choose top 400 features (Best fit)\n",
    "tf_idf = tf_vector.fit_transform(X_blurb)"
   ]
  },
  {
   "cell_type": "code",
   "execution_count": 18,
   "id": "4708ac0e-03c2-4eb8-a232-53ab39296a18",
   "metadata": {},
   "outputs": [],
   "source": [
    "# numeric = [\"backers_count\", \"converted_pledged_amount\", \"goal\", \"pledged\", \"blurb_wc\", \"dale_chall\", \"flesch_kincaid\", \"smog\", \"gun_fog\", \"camp_len\"]\n",
    "categorical = X_other.select_dtypes(include=['object', 'category']).columns.tolist()\n",
    "numeric = X_other.select_dtypes(include=['int64', 'float64', 'bool']).columns.tolist()"
   ]
  },
  {
   "cell_type": "code",
   "execution_count": 19,
   "id": "3d81e03b-367b-4e30-aa29-5af12875be84",
   "metadata": {},
   "outputs": [],
   "source": [
    "other_text_cols = ['blurb_wc', 'dale_chall', 'flesch_kincaid', 'smog', 'gun_fog', 'camp_len']"
   ]
  },
  {
   "cell_type": "code",
   "execution_count": 20,
   "id": "98809530-c7a2-46e2-b40d-4098ab338bc3",
   "metadata": {},
   "outputs": [],
   "source": [
    "transformer = ColumnTransformer([\n",
    "        ('cat', OneHotEncoder(handle_unknown='ignore'), categorical),\n",
    "        ('num', Pipeline([\n",
    "            ('imputer', SimpleImputer(strategy='median')),\n",
    "            ('scaler', StandardScaler())\n",
    "        ]), numeric)\n",
    "    ])"
   ]
  },
  {
   "cell_type": "code",
   "execution_count": 21,
   "id": "d24302c0-0278-4473-975b-240bd5dfd3d2",
   "metadata": {},
   "outputs": [],
   "source": [
    "X_transformed = transformer.fit_transform(X_other)"
   ]
  },
  {
   "cell_type": "code",
   "execution_count": 22,
   "id": "b37b91fd-911e-4f97-9f84-e4b3aa17d2b2",
   "metadata": {},
   "outputs": [],
   "source": [
    "X_text = hstack([tf_idf, X_other[other_text_cols]])\n",
    "X_final = hstack([X_transformed, tf_idf])"
   ]
  },
  {
   "cell_type": "code",
   "execution_count": 23,
   "id": "e418aace-5d48-4a5c-bc18-b6ac4930ed21",
   "metadata": {},
   "outputs": [],
   "source": [
    "onehot_feature_names = transformer.named_transformers_['cat'].get_feature_names_out()\n",
    "numeric_features = transformer.transformers_[1][2]\n",
    "tfidf_feature_names = tf_vector.get_feature_names_out()\n",
    "all_feature_names = np.concatenate([onehot_feature_names, numeric_features, tfidf_feature_names])\n",
    "X_dense = X_final.toarray()\n",
    "X_df = pd.DataFrame(X_dense, columns=all_feature_names)\n",
    "X_tfidf_df = pd.DataFrame(tf_idf.toarray(), columns=tf_vector.get_feature_names_out())\n",
    "X_text_df = pd.concat([X_tfidf_df, X_other[other_text_cols]], axis=1)"
   ]
  },
  {
   "cell_type": "code",
   "execution_count": 24,
   "id": "b481944a-823a-47b5-88b7-dbf29e139a67",
   "metadata": {},
   "outputs": [
    {
     "data": {
      "text/html": [
       "<div>\n",
       "<style scoped>\n",
       "    .dataframe tbody tr th:only-of-type {\n",
       "        vertical-align: middle;\n",
       "    }\n",
       "\n",
       "    .dataframe tbody tr th {\n",
       "        vertical-align: top;\n",
       "    }\n",
       "\n",
       "    .dataframe thead th {\n",
       "        text-align: right;\n",
       "    }\n",
       "</style>\n",
       "<table border=\"1\" class=\"dataframe\">\n",
       "  <thead>\n",
       "    <tr style=\"text-align: right;\">\n",
       "      <th></th>\n",
       "      <th>10 years</th>\n",
       "      <th>100 years</th>\n",
       "      <th>15 years</th>\n",
       "      <th>20 years</th>\n",
       "      <th>20th century</th>\n",
       "      <th>21st century</th>\n",
       "      <th>24 hours</th>\n",
       "      <th>3d printable</th>\n",
       "      <th>3d printed</th>\n",
       "      <th>3d printer</th>\n",
       "      <th>...</th>\n",
       "      <th>young girl</th>\n",
       "      <th>young man</th>\n",
       "      <th>young people</th>\n",
       "      <th>young woman</th>\n",
       "      <th>blurb_wc</th>\n",
       "      <th>dale_chall</th>\n",
       "      <th>flesch_kincaid</th>\n",
       "      <th>smog</th>\n",
       "      <th>gun_fog</th>\n",
       "      <th>camp_len</th>\n",
       "    </tr>\n",
       "  </thead>\n",
       "  <tbody>\n",
       "    <tr>\n",
       "      <th>0</th>\n",
       "      <td>0.0</td>\n",
       "      <td>0.0</td>\n",
       "      <td>0.0</td>\n",
       "      <td>0.0</td>\n",
       "      <td>0.0</td>\n",
       "      <td>0.0</td>\n",
       "      <td>0.0</td>\n",
       "      <td>0.0</td>\n",
       "      <td>0.0</td>\n",
       "      <td>0.0</td>\n",
       "      <td>...</td>\n",
       "      <td>0.0</td>\n",
       "      <td>0.0</td>\n",
       "      <td>0.0</td>\n",
       "      <td>0.0</td>\n",
       "      <td>20</td>\n",
       "      <td>12.52</td>\n",
       "      <td>42.72</td>\n",
       "      <td>0.0</td>\n",
       "      <td>14.00</td>\n",
       "      <td>1</td>\n",
       "    </tr>\n",
       "    <tr>\n",
       "      <th>1</th>\n",
       "      <td>0.0</td>\n",
       "      <td>0.0</td>\n",
       "      <td>0.0</td>\n",
       "      <td>0.0</td>\n",
       "      <td>0.0</td>\n",
       "      <td>0.0</td>\n",
       "      <td>0.0</td>\n",
       "      <td>0.0</td>\n",
       "      <td>0.0</td>\n",
       "      <td>0.0</td>\n",
       "      <td>...</td>\n",
       "      <td>0.0</td>\n",
       "      <td>0.0</td>\n",
       "      <td>0.0</td>\n",
       "      <td>0.0</td>\n",
       "      <td>20</td>\n",
       "      <td>12.82</td>\n",
       "      <td>44.41</td>\n",
       "      <td>0.0</td>\n",
       "      <td>10.00</td>\n",
       "      <td>1</td>\n",
       "    </tr>\n",
       "    <tr>\n",
       "      <th>2</th>\n",
       "      <td>0.0</td>\n",
       "      <td>0.0</td>\n",
       "      <td>0.0</td>\n",
       "      <td>0.0</td>\n",
       "      <td>0.0</td>\n",
       "      <td>0.0</td>\n",
       "      <td>0.0</td>\n",
       "      <td>0.0</td>\n",
       "      <td>0.0</td>\n",
       "      <td>0.0</td>\n",
       "      <td>...</td>\n",
       "      <td>0.0</td>\n",
       "      <td>0.0</td>\n",
       "      <td>0.0</td>\n",
       "      <td>0.0</td>\n",
       "      <td>15</td>\n",
       "      <td>14.91</td>\n",
       "      <td>30.87</td>\n",
       "      <td>0.0</td>\n",
       "      <td>14.00</td>\n",
       "      <td>1</td>\n",
       "    </tr>\n",
       "    <tr>\n",
       "      <th>3</th>\n",
       "      <td>0.0</td>\n",
       "      <td>0.0</td>\n",
       "      <td>0.0</td>\n",
       "      <td>0.0</td>\n",
       "      <td>0.0</td>\n",
       "      <td>0.0</td>\n",
       "      <td>0.0</td>\n",
       "      <td>0.0</td>\n",
       "      <td>0.0</td>\n",
       "      <td>0.0</td>\n",
       "      <td>...</td>\n",
       "      <td>0.0</td>\n",
       "      <td>0.0</td>\n",
       "      <td>0.0</td>\n",
       "      <td>0.0</td>\n",
       "      <td>18</td>\n",
       "      <td>10.67</td>\n",
       "      <td>44.75</td>\n",
       "      <td>0.0</td>\n",
       "      <td>13.87</td>\n",
       "      <td>1</td>\n",
       "    </tr>\n",
       "    <tr>\n",
       "      <th>4</th>\n",
       "      <td>0.0</td>\n",
       "      <td>0.0</td>\n",
       "      <td>0.0</td>\n",
       "      <td>0.0</td>\n",
       "      <td>0.0</td>\n",
       "      <td>0.0</td>\n",
       "      <td>0.0</td>\n",
       "      <td>0.0</td>\n",
       "      <td>0.0</td>\n",
       "      <td>0.0</td>\n",
       "      <td>...</td>\n",
       "      <td>0.0</td>\n",
       "      <td>0.0</td>\n",
       "      <td>0.0</td>\n",
       "      <td>0.0</td>\n",
       "      <td>18</td>\n",
       "      <td>11.55</td>\n",
       "      <td>44.75</td>\n",
       "      <td>0.0</td>\n",
       "      <td>13.87</td>\n",
       "      <td>0</td>\n",
       "    </tr>\n",
       "  </tbody>\n",
       "</table>\n",
       "<p>5 rows × 406 columns</p>\n",
       "</div>"
      ],
      "text/plain": [
       "   10 years  100 years  15 years  20 years  20th century  21st century  \\\n",
       "0       0.0        0.0       0.0       0.0           0.0           0.0   \n",
       "1       0.0        0.0       0.0       0.0           0.0           0.0   \n",
       "2       0.0        0.0       0.0       0.0           0.0           0.0   \n",
       "3       0.0        0.0       0.0       0.0           0.0           0.0   \n",
       "4       0.0        0.0       0.0       0.0           0.0           0.0   \n",
       "\n",
       "   24 hours  3d printable  3d printed  3d printer  ...  young girl  young man  \\\n",
       "0       0.0           0.0         0.0         0.0  ...         0.0        0.0   \n",
       "1       0.0           0.0         0.0         0.0  ...         0.0        0.0   \n",
       "2       0.0           0.0         0.0         0.0  ...         0.0        0.0   \n",
       "3       0.0           0.0         0.0         0.0  ...         0.0        0.0   \n",
       "4       0.0           0.0         0.0         0.0  ...         0.0        0.0   \n",
       "\n",
       "   young people  young woman  blurb_wc  dale_chall  flesch_kincaid  smog  \\\n",
       "0           0.0          0.0        20       12.52           42.72   0.0   \n",
       "1           0.0          0.0        20       12.82           44.41   0.0   \n",
       "2           0.0          0.0        15       14.91           30.87   0.0   \n",
       "3           0.0          0.0        18       10.67           44.75   0.0   \n",
       "4           0.0          0.0        18       11.55           44.75   0.0   \n",
       "\n",
       "   gun_fog  camp_len  \n",
       "0    14.00         1  \n",
       "1    10.00         1  \n",
       "2    14.00         1  \n",
       "3    13.87         1  \n",
       "4    13.87         0  \n",
       "\n",
       "[5 rows x 406 columns]"
      ]
     },
     "execution_count": 24,
     "metadata": {},
     "output_type": "execute_result"
    }
   ],
   "source": [
    "X_text_df.head()"
   ]
  },
  {
   "cell_type": "code",
   "execution_count": null,
   "id": "87546ef8-b356-4de3-af91-085983c923a0",
   "metadata": {},
   "outputs": [],
   "source": []
  },
  {
   "cell_type": "code",
   "execution_count": 25,
   "id": "18a9ff5a-e4cf-43a0-84f6-d541e4deb2ad",
   "metadata": {},
   "outputs": [],
   "source": [
    "X_train_text, X_test_text, y_train, y_test = train_test_split(X_text_df, y, test_size=0.2, stratify=y, random_state=42)\n",
    "X_train_all, X_test_all, y_train_all, y_test_all = train_test_split(X_df, y, test_size=0.2, stratify=y, random_state=42)"
   ]
  },
  {
   "cell_type": "code",
   "execution_count": 26,
   "id": "5524b372-7c1f-4202-aec7-4f745354b2aa",
   "metadata": {},
   "outputs": [],
   "source": [
    "model_text = XGBClassifier(eval_metric='logloss', \n",
    "                           scale_pos_weight=3,  # example, tune this\n",
    "                           max_depth=6, \n",
    "                           learning_rate=0.1, \n",
    "                           reg_alpha=0.5, \n",
    "                           reg_lambda=1)\n"
   ]
  },
  {
   "cell_type": "code",
   "execution_count": 27,
   "id": "275d92c9-f19c-41f9-ad06-449657c34108",
   "metadata": {},
   "outputs": [
    {
     "name": "stdout",
     "output_type": "stream",
     "text": [
      "Text-only AUC: 0.6225424347781517\n",
      "Text-only F1: 0.7719515978901644\n"
     ]
    }
   ],
   "source": [
    "model_text.fit(X_train_text, y_train)\n",
    "\n",
    "# Evaluate\n",
    "y_pred_text = model_text.predict(X_test_text)\n",
    "y_proba_text = model_text.predict_proba(X_test_text)[:, 1]\n",
    "\n",
    "print(\"Text-only AUC:\", roc_auc_score(y_test, y_proba_text))\n",
    "print(\"Text-only F1:\", f1_score(y_test, y_pred_text))"
   ]
  },
  {
   "cell_type": "code",
   "execution_count": 28,
   "id": "9aa49c8d-0085-4dde-95f6-7663d04dc2f1",
   "metadata": {},
   "outputs": [
    {
     "name": "stdout",
     "output_type": "stream",
     "text": [
      "All features AUC: 1.0\n",
      "All features F1: 1.0\n"
     ]
    }
   ],
   "source": [
    "model_all = XGBClassifier(eval_metric='logloss', \n",
    "                          scale_pos_weight=3,  # tune!\n",
    "                          max_depth=6, \n",
    "                          learning_rate=0.1, \n",
    "                          reg_alpha=0.5, \n",
    "                          reg_lambda=1)\n",
    "\n",
    "model_all.fit(X_train_all, y_train_all)\n",
    "\n",
    "# Evaluate\n",
    "y_pred_all = model_all.predict(X_test_all)\n",
    "y_proba_all = model_all.predict_proba(X_test_all)[:, 1]\n",
    "\n",
    "print(\"All features AUC:\", roc_auc_score(y_test, y_proba_all))\n",
    "print(\"All features F1:\", f1_score(y_test, y_pred_all))"
   ]
  },
  {
   "cell_type": "code",
   "execution_count": 29,
   "id": "ac108b63-a229-45be-a8ca-d7ffd1021080",
   "metadata": {},
   "outputs": [
    {
     "data": {
      "image/png": "[encoded data removed]",
      "text/plain": [
       "<Figure size 800x950 with 2 Axes>"
      ]
     },
     "metadata": {},
     "output_type": "display_data"
    },
    {
     "data": {
      "image/png": "[encoded data removed]",
      "text/plain": [
       "<Figure size 800x950 with 2 Axes>"
      ]
     },
     "metadata": {},
     "output_type": "display_data"
    }
   ],
   "source": [
    "# Explain model 1 (text-only)\n",
    "explainer_text = shap.TreeExplainer(model_text)\n",
    "shap_values_text = explainer_text.shap_values(X_test_text)\n",
    "\n",
    "shap.summary_plot(shap_values_text, X_test_text)\n",
    "\n",
    "# Explain model 2 (all features)\n",
    "explainer_all = shap.TreeExplainer(model_all)\n",
    "shap_values_all = explainer_all.shap_values(X_test_all)\n",
    "\n",
    "shap.summary_plot(shap_values_all, X_test_all)"
   ]
  },
  {
   "cell_type": "code",
   "execution_count": null,
   "id": "f128a4c5-45b8-49a3-8256-0ef208d6b2f9",
   "metadata": {},
   "outputs": [
    {
     "name": "stdout",
     "output_type": "stream",
     "text": [
      "Fitting 3 folds for each of 72 candidates, totalling 216 fits\n"
     ]
    }
   ],
   "source": [
    "params = {\n",
    "    'max_depth': [4, 6, 8],\n",
    "    'learning_rate': [0.05, 0.1],\n",
    "    'scale_pos_weight': [1, 3, 5],\n",
    "    'reg_alpha': [0.1, 0.5],\n",
    "    'reg_lambda': [0.5, 1]\n",
    "}\n",
    "\n",
    "grid = GridSearchCV(XGBClassifier(eval_metric='logloss'), \n",
    "                    param_grid=params, \n",
    "                    scoring='roc_auc', \n",
    "                    cv=3, \n",
    "                    verbose=1)\n",
    "\n",
    "grid.fit(X_train_all, y_train)\n",
    "print(\"Best Params:\", grid.best_params_)"
   ]
  },
  {
   "cell_type": "code",
   "execution_count": null,
   "id": "9b87f16c-8136-4f4f-a85a-800beec86e18",
   "metadata": {},
   "outputs": [],
   "source": [
    "# Random Forest\n",
    "rf = RandomForestClassifier()\n",
    "rf.fit(X_train_all, y_train)\n",
    "rf_pred = rf.predict(X_test_all)\n",
    "rf_proba = rf.predict_proba(X_test_all)[:, 1]\n",
    "print(\"RF AUC:\", roc_auc_score(y_test, rf_proba))\n",
    "print(\"RF F1:\", f1_score(y_test, rf_pred))\n",
    "\n",
    "# Logistic Regression\n",
    "lr = LogisticRegression(max_iter=1000)\n",
    "lr.fit(X_train_all, y_train)\n",
    "lr_pred = lr.predict(X_test_all)\n",
    "lr_proba = lr.predict_proba(X_test_all)[:, 1]\n",
    "print(\"LR AUC:\", roc_auc_score(y_test, lr_proba))\n",
    "print(\"LR F1:\", f1_score(y_test, lr_pred))\n"
   ]
  },
  {
   "cell_type": "code",
   "execution_count": null,
   "id": "c05893a2-f4e1-4a95-beb6-1e4d9773a148",
   "metadata": {},
   "outputs": [],
   "source": [
    "features = ['percent_funded']  # or ['goal']\n",
    "\n",
    "# Plot PDP and ICE\n",
    "PartialDependenceDisplay.from_estimator(\n",
    "    model_all,\n",
    "    X_test_all,\n",
    "    features,\n",
    "    kind=\"both\",  # \"average\", \"individual\", or \"both\"\n",
    "    subsample=50,  # ICE can be dense; subsample for clarity\n",
    "    grid_resolution=20,\n",
    "    random_state=0\n",
    ")\n",
    "\n",
    "plt.tight_layout()\n",
    "plt.show()\n"
   ]
  },
  {
   "cell_type": "code",
   "execution_count": null,
   "id": "b154b4f1-2257-4584-83ea-848c5b6884fd",
   "metadata": {},
   "outputs": [],
   "source": [
    "PartialDependenceDisplay.from_estimator(\n",
    "    model_all,\n",
    "    X_test_all,\n",
    "    features=['goal', 'percent_funded', 'readability_flesch'],  # replace with your actual column names\n",
    "    kind=\"both\"\n",
    ")"
   ]
  },
  {
   "cell_type": "code",
   "execution_count": null,
   "id": "71683c63-a43a-42a3-859c-eacea16d8c73",
   "metadata": {},
   "outputs": [],
   "source": [
    "transformer.get_feature_names_out()"
   ]
  },
  {
   "cell_type": "code",
   "execution_count": null,
   "id": "c2326347-9ebc-4348-80e2-0adf8b4026ef",
   "metadata": {},
   "outputs": [],
   "source": []
  }
 ],
 "metadata": {
  "kernelspec": {
   "display_name": "Python 3 (ipykernel)",
   "language": "python",
   "name": "python3"
  },
  "language_info": {
   "codemirror_mode": {
    "name": "ipython",
    "version": 3
   },
   "file_extension": ".py",
   "mimetype": "text/x-python",
   "name": "python",
   "nbconvert_exporter": "python",
   "pygments_lexer": "ipython3",
   "version": "3.13.2"
  }
 },
 "nbformat": 4,
 "nbformat_minor": 5
}
